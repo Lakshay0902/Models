{
 "cells": [
  {
   "cell_type": "markdown",
   "metadata": {},
   "source": [
    "Running with ollama via call \n"
   ]
  },
  {
   "cell_type": "code",
   "execution_count": 2,
   "metadata": {},
   "outputs": [],
   "source": [
    "import requests"
   ]
  },
  {
   "cell_type": "code",
   "execution_count": null,
   "metadata": {},
   "outputs": [],
   "source": [
    "response = requests.post(\n",
    "    \"http://localhost:11434/api/generate\",\n",
    "     json ={\n",
    "        \"model\" : \"deepseek-r1:1.5b\",\n",
    "        \"prompt\": \"How to make an AI agent which will find the learning outcomes of students from class 1st to 5th and then fill in the learning gaps using a dynamic strategy.How to make such AI agent?\",\n",
    "        \"stream\" : False\n",
    "    }\n",
    ")\n",
    "\n"
   ]
  },
  {
   "cell_type": "code",
   "execution_count": 4,
   "metadata": {},
   "outputs": [
    {
     "name": "stdout",
     "output_type": "stream",
     "text": [
      "<think>\n",
      "Okay, so I want to create an AI agent that can help people apply for jobs on LinkedIn and track job statuses. Hmm, where do I start? I know LinkedIn has this whole AI thing going on, but I'm not exactly sure how it works or how to build something similar.\n",
      "\n",
      "First, maybe I should look into LinkedIn's existing tools and features. They have profiles, posts, connections, job listings, etc. But I don't want an AI that can replace human help; I need to create a bot that assists in specific tasks related to job applications. So the focus is on helping with applying for jobs, referring candidates, and tracking statuses.\n",
      "\n",
      "I remember hearing about something called \"Job Referral\" from LinkedIn's AI features. Maybe there are referral bots? But I'm not sure how to set up those or integrate them into an application process. I should probably research that first.\n",
      "\n",
      "Once the referral bot is in place, how do I track job status? Job statuses could include things like active listings, completed applications, accepted offers, etc. I need a way for the AI to monitor these and provide updates when something changes.\n",
      "\n",
      "I think the AI needs to continuously learn and adapt. Maybe it can analyze patterns in job statuses over time and adjust its recommendations or referral suggestions accordingly. That way, it can help users stay informed without having to check the status every single day manually.\n",
      "\n",
      "Wait, but how do I monitor all these statuses? There are so many different types of job statuses—some companies have multiple job boards, like LinkedIn, Indeed, Glassdoor, etc. The AI needs a comprehensive system that can handle and track each status across these platforms without it getting overwhelmed or slow to update.\n",
      "\n",
      "I should also consider the structure of the application process itself. When applying for a job, you might need to submit an resume, cover letter, apply form, interview, etc. Maybe the AI can help with the resume section by suggesting questions or providing feedback based on your answers. That could streamline the application and make it more efficient.\n",
      "\n",
      "Another thing is handling multiple applications from different companies simultaneously. If I have several job offers for the same position, how do I keep track of each one? Perhaps through a shared system where all relevant statuses are linked together. The AI can monitor these statuses in real-time and notify users when any changes occur.\n",
      "\n",
      "I'm also thinking about security. Tracking job statuses could be sensitive information, so handling it securely is crucial. I should make sure that the data stored under the AI's control doesn't compromise user privacy. Maybe encrypt all communications between the AI bot and LinkedIn's servers.\n",
      "\n",
      "What about the flow of the application process? From applying to submitting the resume, to writing the cover letter, to sending it to an interview. How does the AI assist with each step? Maybe suggest best practices for writing a strong cover letter or provide tips on how to approach interviews. Or perhaps the AI can review my cover letter as I write and offer feedback at any point.\n",
      "\n",
      "I should also consider if there are any specific tools or platforms that integrate well with LinkedIn's job boards, like Glassdoor or Indeed. Maybe integrating an AI for status tracking directly into these platforms could be beneficial. But I'm not sure how feasible it is to have a single bot handle all job statuses from different sites without it getting too complex.\n",
      "\n",
      "Testing and iteration seem important here. I can start by creating the initial functions—like monitoring job statuses, suggesting questions for resumes—and then expand as needed. Users will likely provide feedback on how well the AI is working, which can help me refine the system over time.\n",
      "\n",
      "I wonder about the user experience. How does it feel when you apply to a job and the status updates come up quickly? It should be quick enough that there's no delay in submitting or reviewing materials, but still allowing users to track their progress without feeling overwhelmed.\n",
      "\n",
      "In terms of data management, I need to ensure that all statuses are well-organized. Maybe creating separate sections on LinkedIn for each type of job status and using dashboards to monitor overall performance. Keeping everything accessible from both the AI's perspective and from the user interface will be important.\n",
      "\n",
      "I'm also thinking about how this system could benefit existing employees. If LinkedIn has internal tools or processes, there might be a way to integrate an AI agent that can provide real-time status updates on specific job posts. This integration would help maintain consistency across all platforms.\n",
      "\n",
      "Wait, but I should be cautious about overcomplicating the system. It shouldn't feel like a substitute for human interaction; it should enhance the process by providing timely feedback and suggestions. That way, users can focus more on the application aspects rather than dealing with statuses internally.\n",
      "\n",
      "I'm also considering potential challenges—like ensuring accuracy in job status data, handling different regions where job boards may have slightly varying statuses or policies. It might require some standardization across all platforms to ensure consistency.\n",
      "\n",
      "In summary, I need to outline a plan that includes researching existing LinkedIn features, creating an AI bot for status tracking and application assistance, setting up a system to monitor statuses, ensuring data security, designing the flow of the application process with tailored support, integrating integration tools where feasible, managing user experience efficiently, and addressing any challenges that arise.\n",
      "\n",
      "I think breaking it down into these steps will help me tackle each part of the problem methodically. Starting with understanding LinkedIn's current features, building the AI bot for job tracking, setting up user-friendly interfaces, and continuously improving based on feedback would be my approach.\n",
      "</think>\n",
      "\n",
      "To create an AI agent that helps apply for jobs on LinkedIn and tracks job statuses, follow this organized plan:\n",
      "\n",
      "1. **Research LinkedIn's Features**: Begin by exploring LinkedIn's existing job tracking features, such as Job Referral and the Job Referral UI. Understand how they assist users with applying for jobs, referring candidates, and monitoring statuses.\n",
      "\n",
      "2. **Set Up Job Referral Bot**: Develop an AI bot focused on job referral tasks. The bot should analyze patterns in job statuses and provide tailored recommendations to help users stay informed without manual checks.\n",
      "\n",
      "3. **Track Job Statuses**: Implement a comprehensive system to monitor various job status types (e.g., active listings, completed applications, accepted offers). Use this system to alert users when statuses change, ensuring real-time updates without manual intervention.\n",
      "\n",
      "4. **Handle Multiple Applications**: Design an AI assistant that can manage multiple applications from different companies simultaneously. Link all relevant statuses across platforms and allow the AI to notify users of status changes efficiently.\n",
      "\n",
      "5. **Apply Process Assistance**: Create tools within the application process to help users with resume writing, cover letter feedback, and interview preparation. The AI can offer tailored advice based on your answers or provide tips during interviews.\n",
      "\n",
      "6. **Security Considerations**: Ensure secure handling of sensitive data by encrypting communications between the AI and LinkedIn's servers. Maintain privacy by securing user data in the AI's control.\n",
      "\n",
      "7. **Flow and User Experience**: Design an intuitive flow for applying to jobs, including resume submission and status updates. Provide feedback during these processes to enhance your application experience.\n",
      "\n",
      "8. **Data Management**: Organize job statuses into separate sections on LinkedIn and use dashboards for overall performance monitoring. Keep all data accessible from both AI and user interfaces.\n",
      "\n",
      "9. **Integration of Internal Tools**: Consider integrating an AI agent with existing internal tools or processes if LinkedIn has relevant systems, allowing seamless status updates across platforms.\n",
      "\n",
      "10. **User Experience Optimization**: Ensure quick response times for status notifications while minimizing the impact on application processing. Focus on enhancing your efficiency without overwhelming users.\n",
      "\n",
      "By following this structured approach, you can develop a robust AI system that enhances job application processes, improves tracking of job statuses, and supports user success on LinkedIn.\n"
     ]
    }
   ],
   "source": [
    "print(response.json()[\"response\"])"
   ]
  },
  {
   "cell_type": "markdown",
   "metadata": {},
   "source": [
    "Chatbot using the Model "
   ]
  },
  {
   "cell_type": "markdown",
   "metadata": {},
   "source": [
    "Initial messages "
   ]
  },
  {
   "cell_type": "code",
   "execution_count": null,
   "metadata": {},
   "outputs": [],
   "source": [
    "messages = [\n",
    "    {\"role\" : \"system\",\"content\" : \"You are an helpful assistant\"},\n",
    "    {\"role\" : \"user\", \"content\" : \"Hi! Bot\"},\n",
    "    {\"role\" : \"assistant\",\"content\" : \"Hello! How can I help you today?\"}\n",
    "]"
   ]
  },
  {
   "cell_type": "markdown",
   "metadata": {},
   "source": [
    "Loop to keep chat active \n",
    "\n",
    "1) capture the user input \n",
    "2) append it to messages \n",
    "3) Send the updated message array to Ollama \n",
    "4) Append the assistant's reply to messages"
   ]
  },
  {
   "cell_type": "code",
   "execution_count": null,
   "metadata": {},
   "outputs": [],
   "source": [
    "messages = [\n",
    "    {\"role\" : \"system\",\"content\" : \"You are a friendly chatbot\"}\n",
    "]\n",
    "\n",
    "while True : \n",
    "    user_input = input(\"You :\")\n",
    "    if user_input.lower() in [\"exit\",\"quit\"] : \n",
    "        break\n",
    "    messages.append({\"role\" : \"user\",\"content\" :  user_input})\n",
    "\n",
    "    #send to ollama \n",
    "    response = requests.post(\n",
    "        \"http://localhost:11434/api/chat\",\n",
    "         json = {\n",
    "             \"model\" : \"deepseek-r1:1.5b\",\n",
    "             \"messages\" : messages,\n",
    "             \"stream\" : False\n",
    "         }\n",
    "    )\n",
    "\n",
    "    assistant_reply = response.json()[\"message\"][\"content\"]\n",
    "    print(f\"Assistant : {assistant_reply}\")\n",
    "\n",
    "    messages.append({\"role\" : \"assistant\",\"content\" : assistant_reply})\n",
    "    # if I want to summarize the history of messages \n",
    "    # truncate old messages \n",
    "    if len(messages)> 10 : # messages[0] is system_prompt (first message in the array) and last 10 messages\n",
    "        messages= [messages[0]] + messages[-10:]\n",
    "    \n",
    "    summary_prompt = \"Summarize this conversation: \" + \"\\n\".join(messages)\n",
    "    messages = [\n",
    "        {\"role\" : \"system\", \"content\" : \"You are an helpful assistant\"},\n",
    "        {\"role\" : \"user\", \"content\" : summary_prompt}\n",
    "    ]\n",
    "    #here assistant role is the reply by the model \n",
    "    "
   ]
  }
 ],
 "metadata": {
  "kernelspec": {
   "display_name": "Python 3",
   "language": "python",
   "name": "python3"
  },
  "language_info": {
   "codemirror_mode": {
    "name": "ipython",
    "version": 3
   },
   "file_extension": ".py",
   "mimetype": "text/x-python",
   "name": "python",
   "nbconvert_exporter": "python",
   "pygments_lexer": "ipython3",
   "version": "3.9.6"
  }
 },
 "nbformat": 4,
 "nbformat_minor": 2
}
